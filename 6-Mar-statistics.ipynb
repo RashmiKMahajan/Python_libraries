{
 "cells": [
  {
   "cell_type": "markdown",
   "id": "8b2000bc-52a2-4fb6-abd6-2980fbd6ff60",
   "metadata": {},
   "source": [
    "Name : Rashmi Mahajan \n",
    "Batch : Data science Masters \n",
    "Topic : Statistics\n",
    "Date : 6/3/2023"
   ]
  },
  {
   "cell_type": "markdown",
   "id": "5b7da3f4-e130-4c4e-831b-0981049b3af0",
   "metadata": {},
   "source": [
    "Q1. What is Statistics?"
   ]
  },
  {
   "cell_type": "markdown",
   "id": "e1fc12fd-fcb2-4c09-be73-a0626eadf769",
   "metadata": {},
   "source": [
    "Statistics Definition: Statistics is a branch that deals with every aspect of the data. Statistical knowledge helps to choose the proper method of collecting the data and employ those samples in the correct analysis process in order to effectively produce the results. In short, statistics is a crucial process which helps to make the decision based on the data.\n",
    "\n",
    "Statistics is the branch of mathematics for collecting, analysing and interpreting data. Statistics can be used to predict the future, determine the probability that a specific event will happen, or help answer questions about a survey. Statistics is used in many different fields such as business, medicine, biology, psychology and social sciences."
   ]
  },
  {
   "cell_type": "code",
   "execution_count": null,
   "id": "2ffa35ff-8462-4229-9f5d-e967c2e795e0",
   "metadata": {},
   "outputs": [],
   "source": []
  },
  {
   "cell_type": "markdown",
   "id": "d0afd126-2988-48b3-a818-68ed8e8882cd",
   "metadata": {},
   "source": [
    "Q2. Define the different types of statistics and give an example of when each type might be used."
   ]
  },
  {
   "cell_type": "markdown",
   "id": "ac580f65-2be1-4e01-b55f-7b607e9385b3",
   "metadata": {},
   "source": [
    "\n",
    "The two main branches of statistics are:\n",
    "Descriptive Statistics & Inferential Statistics\n",
    "\n",
    "\n",
    "Descriptive Statistics :– \n",
    "Through graphs or tables, or numerical calculations, descriptive statistics uses the data to provide descriptions of the population.\n",
    "\n",
    "Example 1: Suppose the marks of students belonging to a particular class are given as {92, 87, 65, 99, 40}. Which type of statistics will be used to compute the mean?\n",
    "\n",
    "Solution: As the mean is a measure of central tendency thus, descriptive statistics will be used to determine the mean score. The formula for the mean is given as\n",
    "\n",
    "Mean = Sum of observations / total number of observations = (92 + 87 + 65 + 99 + 40) / 5\n",
    "Mean = 76.6\n",
    "\n",
    "Answer: Descriptive Statistics"
   ]
  },
  {
   "cell_type": "markdown",
   "id": "0be45f01-340d-449f-a83a-afc43dcae2f8",
   "metadata": {},
   "source": [
    "Inferential Statistics :–\n",
    "Based on the data sample taken from the population, inferential statistics makes the predictions and inferences.\n",
    "\n",
    "Both types of statistics are equally employed in the field of statistical analysis. \n",
    "\n",
    "Example 2: Suppose the height of a person is given as 183.5 cms. What type of data in statistics will height be classified as?\n",
    "\n",
    "Solution: The height of a person possesses several mathematical properties thus, implying that it falls under quantitative data. Furthermore, as the height cannot be negative and can be divided into finer levels of measurement, thus, it can be classified as ratio data.\n",
    "\n",
    "Answer: Quantitative data (Ratio data)"
   ]
  },
  {
   "cell_type": "code",
   "execution_count": null,
   "id": "36fcecc3-b2c7-4e84-afe1-464bac1165c1",
   "metadata": {},
   "outputs": [],
   "source": []
  },
  {
   "cell_type": "markdown",
   "id": "0b3812cb-17f3-4e01-acd6-f60776d6a835",
   "metadata": {},
   "source": [
    "Q3.  What are the different types of data and how do they differ from each other? Provide an example of \n",
    "each type of data."
   ]
  },
  {
   "cell_type": "markdown",
   "id": "9f23a314-1641-484f-93cb-5c8021308753",
   "metadata": {},
   "source": [
    "\n",
    "Types of Data in Statistics\n",
    "There are two types of data in statistics, namely, \n",
    "1. qualitative data  \n",
    "2. quantitative data. \n",
    "\n",
    "1. Qualitative Data or Categorical Data :=>\n",
    "\n",
    "1.a: Nominal data - \n",
    "This type of data can be divided into two mutually exclusive groups that do not overlap. Labels and tags are used to categorize such data. Nominal data does not have any intrinsic ordering and does not possess any numeric properly. Examples of nominal data are gender, eye color, etc.\n",
    "\n",
    "1.b: Ordinal data -\n",
    "Similar to nominal data, arithmetic, and logical operations cannot be performed on ordinal data as it does not possess any numerical property. However, such a type of data can be intrinsically ordered. For example, rating a restaurant experience on a scale of 1 - 5.\n",
    "\n",
    "2. Quantitative Data:=>\n",
    "\n",
    "2.a: Discrete data - \n",
    "This is one of the types of data that can only involve the use of integers and cannot be divided into smaller or finer parts. Mathematical operations can be performed on discrete data. For example, days of a month, number of teachers in a school, etc.\n",
    "\n",
    "2.b :Continuous data -\n",
    "Such a type of data can be divided into finer levels and can take on any numeric value. There are two types of continuous data, namely, interval and ratio data. Interval data can be negative and does not have a meaningful zero. On the other hand, ratio data can never be negative and has a meaningful zero. Calculations for continuous data are performed using descriptive statistics.\n"
   ]
  },
  {
   "cell_type": "code",
   "execution_count": null,
   "id": "b72b39a7-eb35-415e-abf1-f4f9341fa747",
   "metadata": {},
   "outputs": [],
   "source": []
  },
  {
   "cell_type": "markdown",
   "id": "03dc1f66-07c5-4000-8f18-c2f8139bb51e",
   "metadata": {},
   "source": [
    "Q4. Categorise the following datasets with respect to quantitative and qualitative data types:\n",
    "\n",
    "(i)\tGrading in exam: A+, A, B+, B, C+, C, D, E\n",
    "\n",
    "(ii)\tColour of mangoes: yellow, green, orange, red\n",
    "\n",
    "(iii)\tHeight data of a class: [178.9, 179, 179.5, 176, 177.2, 178.3, 175.8,...]\n",
    "\n",
    "(iv)\tNumber of mangoes exported by a farm: [500, 600, 478, 672, …]\n"
   ]
  },
  {
   "cell_type": "markdown",
   "id": "a59688f3-b15e-40de-8949-00ac9e2830b3",
   "metadata": {},
   "source": [
    "Categorical Data :=>\n",
    "\n",
    "(i)\tGrading in exam: A+, A, B+, B, C+, C, D, E\n",
    "(ii)Colour of mangoes: yellow, green, orange, red\n",
    "\n",
    "Quantitative Data:=>\n",
    "\n",
    "(iii)\tHeight data of a class: [178.9, 179, 179.5, 176, 177.2, 178.3, 175.8,...]\n",
    "(iv)\tNumber of mangoes exported by a farm: [500, 600, 478, 672, …]\n"
   ]
  },
  {
   "cell_type": "code",
   "execution_count": null,
   "id": "4298891a-f03c-4732-a5b4-39e8767052e3",
   "metadata": {},
   "outputs": [],
   "source": []
  },
  {
   "cell_type": "markdown",
   "id": "7335ebe7-645c-43af-8cdc-5ff131dc7ffc",
   "metadata": {},
   "source": [
    "Q5. Explain the concept of levels of measurement and give an example of a variable for each level."
   ]
  },
  {
   "cell_type": "markdown",
   "id": "40ce98b1-c175-4314-a47e-c53b9e757249",
   "metadata": {},
   "source": [
    "Levels of measurement, also called scales of measurement, tell you how precisely variables are recorded.\n",
    "In scientific research, a variable is anything that can take on different values across your data set \n",
    "(e.g., height or test scores).\n",
    "\n",
    "There are 4 levels of measurement:\n",
    "\n",
    "1. Nominal: the data can only be categorized\n",
    "You can categorize your data by labelling them in mutually exclusive groups, but there is no order between the categories.\n",
    " \n",
    " Examples :-\n",
    "City of birth\n",
    "Gender\n",
    "Ethnicity\n",
    "Car brands\n",
    "Marital status\n",
    "\n",
    "2. Ordinal: the data can be categorized and ranked\n",
    "You can categorize and rank your data in an order, but you cannot say anything about the intervals between the rankings.\n",
    "Although you can rank the top 5 Olympic medallists, this scale does not tell you how close or far apart they are \n",
    "in number of wins.\n",
    " \n",
    " Examples :-\n",
    "-> Top 5 Olympic medallists\n",
    "-> Language ability (e.g., beginner, intermediate, fluent)\n",
    "-> Likert-type questions  (e.g., very dissatisfied to very satisfied)\n",
    "\n",
    "3. Interval: the data can be categorized, ranked, and evenly spaced\n",
    "You can categorize, rank, and infer equal intervals between neighboring data points, but there is no true zero point.\n",
    "The difference between any two adjacent temperatures is the same: one degree. But  zero degrees is defined differently depending on the scale – it doesn’t mean an absolute absence of temperature.\n",
    "\n",
    "The same is true for test scores and personality inventories. A zero on a test is arbitrary; it does not mean that the test-taker has an absolute lack of the trait being measured.\n",
    "\n",
    " Examples :-\n",
    "-> Test scores (e.g., IQ or exams)\n",
    "-> Personality inventories\n",
    "-> Temperature in Fahrenheit or Celsius\n",
    "\n",
    "4. Ratio: the data can be categorized, ranked, evenly spaced, and has a natural zero.\n",
    "You can categorize, rank, and infer equal intervals between neighboring data points, and there is a true zero point.\n",
    "A true zero means there is an absence of the variable of interest. In ratio scales, zero does mean an absolute lack of the variable.\n",
    "\n",
    "For example, in the Kelvin temperature scale, there are no negative degrees of temperature – zero means an absolute lack of thermal energy.\n",
    "\n",
    " Examples :-\n",
    "-> Height\n",
    "-> Age\n",
    "-> Weight\n",
    "-> Temperature in Kelvin"
   ]
  },
  {
   "cell_type": "markdown",
   "id": "7357dc0b-83e3-4c04-8602-a348b5f1b676",
   "metadata": {},
   "source": [
    "\n"
   ]
  },
  {
   "cell_type": "code",
   "execution_count": null,
   "id": "d7f98f00-dad8-4092-80e1-a7c92cd7c5ae",
   "metadata": {},
   "outputs": [],
   "source": []
  },
  {
   "cell_type": "code",
   "execution_count": null,
   "id": "6e6c762e-868b-4955-aa1d-22263f40827b",
   "metadata": {},
   "outputs": [],
   "source": []
  },
  {
   "cell_type": "code",
   "execution_count": null,
   "id": "5520ad97-c238-47df-9181-402d63cd8887",
   "metadata": {},
   "outputs": [],
   "source": []
  },
  {
   "cell_type": "code",
   "execution_count": null,
   "id": "e35d5f8e-3d9d-4354-87d9-87223908b8bc",
   "metadata": {},
   "outputs": [],
   "source": []
  },
  {
   "cell_type": "markdown",
   "id": "7f609382-d4ad-48df-8fe8-40e05159446c",
   "metadata": {},
   "source": [
    "Q6. Why is it important to understand the level of measurement when analyzing data? Provide an \n",
    "example to illustrate your answer."
   ]
  },
  {
   "cell_type": "markdown",
   "id": "f9116195-4ec4-4aa3-aafe-0b2e05ebad21",
   "metadata": {},
   "source": [
    "Level of measurement is important as it determines the type of statistical analysis you can carry out. As a result, it affects both the nature and the depth of insights you’re able to glean from your data. Certain statistical tests can only be performed where more precise levels of measurement have been used, so it’s essential to plan in advance how you’ll gather and measure your data."
   ]
  },
  {
   "cell_type": "markdown",
   "id": "354e9d71-6f31-4f7e-8bc6-8667d7da170e",
   "metadata": {},
   "source": [
    "Levels of measurement are important because they indicate the extent to which statisticians, marketing analysts and financial analysts can use existing data. For instance, if you classify your data at the ordinal level of measurement, you know that you can evaluate how items compare to each other based on a specific hierarchy. If you wanted to analyze the exact distance between items rather than understand only how they compare to one another, you might want to rely on data at the interval level of measurement.\n",
    "\n",
    "Understanding levels of measurement can also help you properly plan your research. For instance, if you want to gather data with a true zero point, you can invest the appropriate resources to go beyond nominal data and gather data that adheres to the ratio level of measurement. The levels of data measurement are also important for providing insight into how to present research findings. For instance, when applying interval measurement, you might present your data in charts or graphs, whereas ratio measurement might use mathematical equations.\n",
    "\n"
   ]
  },
  {
   "cell_type": "code",
   "execution_count": null,
   "id": "4d37e8e5-2712-4ae4-bfca-cd26d7822743",
   "metadata": {},
   "outputs": [],
   "source": []
  },
  {
   "cell_type": "markdown",
   "id": "fc508393-061e-4328-97b9-63a838e12906",
   "metadata": {},
   "source": [
    "Q7. How nominal data type is different from ordinal data type."
   ]
  },
  {
   "cell_type": "markdown",
   "id": "671aeda1-f132-41f4-8571-7607d6bdf412",
   "metadata": {},
   "source": [
    "The main differences between Nominal Data and Ordinal Data are: While Nominal Data is classified without any intrinsic ordering or rank, Ordinal Data has some predetermined or natural order. Nominal data is qualitative or categorical data, while Ordinal data is considered “in-between” qualitative and quantitative data."
   ]
  },
  {
   "cell_type": "code",
   "execution_count": null,
   "id": "b24092ee-116d-49db-b449-2410860f7862",
   "metadata": {},
   "outputs": [],
   "source": []
  },
  {
   "cell_type": "markdown",
   "id": "3f4bf04b-617f-46a2-b1bf-f3603f662a77",
   "metadata": {},
   "source": [
    "Q8. Which type of plot can be used to display data in terms of range?"
   ]
  },
  {
   "cell_type": "markdown",
   "id": "4b3d9e48-8e05-4e67-906e-21cdeb0447a7",
   "metadata": {},
   "source": [
    "Box plot , Histogram"
   ]
  },
  {
   "cell_type": "code",
   "execution_count": null,
   "id": "8cee74dd-cf4c-4de8-94dc-2bdde480d89b",
   "metadata": {},
   "outputs": [],
   "source": []
  },
  {
   "cell_type": "markdown",
   "id": "48caf619-7352-4698-b255-73a6f713d6dd",
   "metadata": {},
   "source": [
    "Q9. Describe the difference between descriptive and inferential statistics. Give an example of each \n",
    "type of statistics and explain how they are used."
   ]
  },
  {
   "cell_type": "markdown",
   "id": "c7b8040a-fedb-45cd-8839-a1f628191ec7",
   "metadata": {},
   "source": [
    "Descriptive statistics summarizes and describes the main features of a dataset, such as the mean, median, and standard deviation. It provides a way to understand the distribution and pattern of data. Inferential statistics uses a sample of data to make inferences about the population from which the data was drawn."
   ]
  },
  {
   "attachments": {
    "13e9b31a-2579-4fe0-a2f6-b818fe508942.png": {
     "image/png": "[encoded data removed]"
    }
   },
   "cell_type": "markdown",
   "id": "8691a440-4eb1-42bd-90f8-cee497df2f28",
   "metadata": {},
   "source": [
    "![image.png](attachment:13e9b31a-2579-4fe0-a2f6-b818fe508942.png)"
   ]
  },
  {
   "cell_type": "markdown",
   "id": "bd69b9d1-b787-4157-b063-7aabc101f4d5",
   "metadata": {},
   "source": [
    "Descriptive statistics Example :\n",
    "\n",
    "it involves all of the data from a given set, which is also known as a population. With this form of statistics, you don’t make any conclusions beyond what you’re given in the set of data. For example, if you have a data set that involves 20 students in class, you can find the average of that data set for those 20 students, but you can’t find what the possible average is for all the students in the school using just that data."
   ]
  },
  {
   "cell_type": "markdown",
   "id": "8f4eea9d-e747-4b77-a3b8-fd46bd3d18a2",
   "metadata": {},
   "source": [
    "Inferential statistics have two main uses:\n",
    "\n",
    "making estimates about populations (for example, the mean SAT score of all 11th graders in the US).\n",
    "testing hypotheses to draw conclusions about populations (for example, the relationship between SAT scores and family income)."
   ]
  },
  {
   "cell_type": "code",
   "execution_count": null,
   "id": "b24b5136-88a6-42be-ae17-74a1b9c190af",
   "metadata": {},
   "outputs": [],
   "source": []
  },
  {
   "cell_type": "markdown",
   "id": "eab791b8-d1cc-47a8-9988-6be7b2bb74a1",
   "metadata": {},
   "source": [
    "Q10. What are some common measures of central tendency and variability used in statistics? Explain \n",
    "how each measure can be used to describe a dataset."
   ]
  },
  {
   "cell_type": "markdown",
   "id": "2862f394-818d-47f7-8ccc-0aa8a79c4ed2",
   "metadata": {},
   "source": [
    " Measures of central tendency help you find the middle, or the average, of a dataset. \n",
    " The 3 most common measures of central tendency are the mode, median, and mean. \n",
    " \n",
    "Mode:- the most frequent value.\n",
    " \n",
    "Median: the middle number in an ordered dataset.\n",
    " \n",
    "Mean: the sum of all values divided by the total number of values."
   ]
  },
  {
   "cell_type": "markdown",
   "id": "e6366584-a298-4bc6-b622-801f59199620",
   "metadata": {},
   "source": [
    "There are four frequently used measures of variability:\n",
    "The range, interquartile range, variance, and standard deviation.\n",
    " \n",
    "Range: the difference between the highest and lowest values\n",
    "\n",
    "Interquartile range: the range of the middle half of a distribution\n",
    "\n",
    "Standard deviation: average distance from the mean\n",
    "\n",
    "Variance: average of squared distances from the mean"
   ]
  },
  {
   "cell_type": "code",
   "execution_count": null,
   "id": "eacb5c48-5538-44b8-9186-da5279e4784e",
   "metadata": {},
   "outputs": [],
   "source": []
  }
 ],
 "metadata": {
  "kernelspec": {
   "display_name": "Python 3 (ipykernel)",
   "language": "python",
   "name": "python3"
  },
  "language_info": {
   "codemirror_mode": {
    "name": "ipython",
    "version": 3
   },
   "file_extension": ".py",
   "mimetype": "text/x-python",
   "name": "python",
   "nbconvert_exporter": "python",
   "pygments_lexer": "ipython3",
   "version": "3.10.8"
  }
 },
 "nbformat": 4,
 "nbformat_minor": 5
}
