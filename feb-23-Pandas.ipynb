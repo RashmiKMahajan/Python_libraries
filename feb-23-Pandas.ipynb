{
 "cells": [
  {
   "cell_type": "code",
   "execution_count": null,
   "id": "643e240d-62bd-4305-9405-62bdaa8fda35",
   "metadata": {},
   "outputs": [],
   "source": [
    "Name : Rashmi Mahajan \n",
    "Batch : Data science Masters \n",
    "Topic : Pandas Basics\n",
    "Date : 17/2/2023\n"
   ]
  },
  {
   "cell_type": "markdown",
   "id": "2395c4e1-c4d1-4bb5-a8bd-a1f5b31e71a7",
   "metadata": {},
   "source": [
    "Q1. Create a Pandas Series that contains the following data: 4, 8, 15, 16, 23, and 42. Then, print the series.\n",
    "\n"
   ]
  },
  {
   "cell_type": "code",
   "execution_count": 1,
   "id": "0f093782-f417-4de7-9061-6cefc941956f",
   "metadata": {},
   "outputs": [
    {
     "name": "stdout",
     "output_type": "stream",
     "text": [
      "0     4\n",
      "1     8\n",
      "2    15\n",
      "3    16\n",
      "4    23\n",
      "5    42\n",
      "dtype: int64\n"
     ]
    }
   ],
   "source": [
    "import pandas as pd\n",
    "# create Pandas Series with default index values\n",
    "data = pd.Series([4, 8, 15, 16, 23,42])\n",
    "# print the Series\n",
    "print(data)"
   ]
  },
  {
   "cell_type": "code",
   "execution_count": null,
   "id": "93a1e49f-9bd5-4cf5-b14b-e36234806a63",
   "metadata": {},
   "outputs": [],
   "source": []
  },
  {
   "cell_type": "markdown",
   "id": "3a03a103-e2c1-4966-9538-0f53b5b781af",
   "metadata": {},
   "source": [
    "Q2. Create a variable of list type containing 10 elements in it, and apply pandas.Series function on the \n",
    "variable print it.\n",
    "\n"
   ]
  },
  {
   "cell_type": "code",
   "execution_count": 2,
   "id": "77dafa8d-aa74-47b1-8653-e569586bc72e",
   "metadata": {},
   "outputs": [
    {
     "name": "stdout",
     "output_type": "stream",
     "text": [
      "0                            4\n",
      "1                          8.5\n",
      "2                       Rashmi\n",
      "3                 Data-Science\n",
      "4                           99\n",
      "5                           12\n",
      "6           [99.1, 98.6, 97.8]\n",
      "7           [95.0, 87.9, 89.9]\n",
      "8                   [pwskills]\n",
      "9    [Aspiring Data scientist]\n",
      "dtype: object\n"
     ]
    }
   ],
   "source": [
    "import pandas as pd\n",
    "data = pd.Series([4, 8.5,'Rashmi','Data-Science',99,12,[99.1,98.6,97.8],[95.0,87.9,89.9],['pwskills'],['Aspiring Data scientist']])\n",
    "print(data)"
   ]
  },
  {
   "cell_type": "code",
   "execution_count": 3,
   "id": "eceacbe3-4e34-42d6-ab1c-6830cbbff665",
   "metadata": {},
   "outputs": [
    {
     "name": "stdout",
     "output_type": "stream",
     "text": [
      "0                    [1, 2, 3]\n",
      "1                    [4, 5, 6]\n",
      "2                        [IIT]\n",
      "3                     [Rashmi]\n",
      "4       [Data-Science-masters]\n",
      "5           [99.1, 98.6, 97.8]\n",
      "6           [95.0, 87.9, 89.9]\n",
      "7                   [pwskills]\n",
      "8    [Aspiring Data scientist]\n",
      "9                    [1200000]\n",
      "dtype: object\n"
     ]
    }
   ],
   "source": [
    "import pandas as pd\n",
    "variable = [[1, 2, 3], [4, 5, 6], ['IIT'], ['Rashmi'],['Data-Science-masters'],[99.1,98.6,97.8],[95.0,87.9,89.9],['pwskills'],['Aspiring Data scientist'],[1200000]]\n",
    "s = pd.Series(variable)\n",
    "print(s)"
   ]
  },
  {
   "cell_type": "code",
   "execution_count": null,
   "id": "2c7a5899-52d9-47a0-9cd7-7b0c5cd26319",
   "metadata": {},
   "outputs": [],
   "source": []
  },
  {
   "attachments": {
    "7d2a8c75-c493-4bb8-aa88-b7102e460bb6.png": {
     "image/png": "[encoded data removed]"
    }
   },
   "cell_type": "markdown",
   "id": "3fe4d422-fd7b-44db-8173-7b47e3c7b5ac",
   "metadata": {},
   "source": [
    "Q3. Create a Pandas DataFrame that contains the following data:\n",
    "\n",
    "![image.png](attachment:7d2a8c75-c493-4bb8-aa88-b7102e460bb6.png)\n",
    "\n",
    "    Then, print the DataFrame."
   ]
  },
  {
   "cell_type": "code",
   "execution_count": 4,
   "id": "5e07f4ac-29ed-43b4-8011-1c6b075b2052",
   "metadata": {},
   "outputs": [
    {
     "data": {
      "text/html": [
       "<div>\n",
       "<style scoped>\n",
       "    .dataframe tbody tr th:only-of-type {\n",
       "        vertical-align: middle;\n",
       "    }\n",
       "\n",
       "    .dataframe tbody tr th {\n",
       "        vertical-align: top;\n",
       "    }\n",
       "\n",
       "    .dataframe thead th {\n",
       "        text-align: right;\n",
       "    }\n",
       "</style>\n",
       "<table border=\"1\" class=\"dataframe\">\n",
       "  <thead>\n",
       "    <tr style=\"text-align: right;\">\n",
       "      <th></th>\n",
       "      <th>Name</th>\n",
       "      <th>Age</th>\n",
       "      <th>Gender</th>\n",
       "    </tr>\n",
       "  </thead>\n",
       "  <tbody>\n",
       "    <tr>\n",
       "      <th>0</th>\n",
       "      <td>Alice</td>\n",
       "      <td>25</td>\n",
       "      <td>Female</td>\n",
       "    </tr>\n",
       "    <tr>\n",
       "      <th>1</th>\n",
       "      <td>Bob</td>\n",
       "      <td>30</td>\n",
       "      <td>Male</td>\n",
       "    </tr>\n",
       "    <tr>\n",
       "      <th>2</th>\n",
       "      <td>Claire</td>\n",
       "      <td>27</td>\n",
       "      <td>Female</td>\n",
       "    </tr>\n",
       "  </tbody>\n",
       "</table>\n",
       "</div>"
      ],
      "text/plain": [
       "     Name  Age   Gender\n",
       "0   Alice   25   Female\n",
       "1     Bob   30     Male\n",
       "2  Claire   27   Female"
      ]
     },
     "execution_count": 4,
     "metadata": {},
     "output_type": "execute_result"
    }
   ],
   "source": [
    "# Import pandas library\n",
    "import pandas as pd\n",
    "  \n",
    "# initialize list of lists\n",
    "data = [['Alice', 25, 'Female'], ['Bob', 30, 'Male'], ['Claire', 27, ' Female']]\n",
    "  \n",
    "# Create the pandas DataFrame\n",
    "df = pd.DataFrame(data, columns=['Name', 'Age','Gender'])\n",
    "  \n",
    "# print dataframe.\n",
    "df"
   ]
  },
  {
   "cell_type": "code",
   "execution_count": null,
   "id": "e1bca76b-78ef-44ec-a2a6-fc36e1955465",
   "metadata": {},
   "outputs": [],
   "source": []
  },
  {
   "cell_type": "markdown",
   "id": "5217ac7f-4827-42cd-9ec3-41761a89b986",
   "metadata": {},
   "source": [
    "Q4. What is ‘DataFrame’ in pandas and how is it different from pandas.series? Explain with an example.\n",
    "\n"
   ]
  },
  {
   "cell_type": "markdown",
   "id": "7ab8c2d9-c13f-48fd-a452-0e6d08cdcdc7",
   "metadata": {},
   "source": [
    "A pandas Series:-\n",
    "It is a one-dimensional array. It holds any data type supported in Python and uses labels to locate each data value for retrieval. These labels form the index, and they can be strings or integers. A Series is the main data structure in the pandas framework for storing one-dimensional data.\n",
    "\n",
    "A Pandas DataFrame :-\n",
    "It is a 2 dimensional data structure, like a 2 dimensional array, or a table with rows and columns.\n",
    "\n",
    "difference between series and DataFrame:-\n",
    "1)Series are 1-D, whereas Dataframe are 2-D. \n",
    "2)Series consists of homogeneous data, whereas dataframe consists of heterogeneous data. \n",
    "3)series are value mutable whereas dataframe are not.\n",
    "\n",
    "Series : Size- Immutable: Size of a series object, once created, cannot change.\n",
    "Data-Frame : Size – Mutable : We can drop or add the elements in an existing dataframe object. \n",
    "\n"
   ]
  },
  {
   "cell_type": "code",
   "execution_count": 5,
   "id": "b90ef8ed-9892-4cea-81be-43cedc7a0bbf",
   "metadata": {},
   "outputs": [
    {
     "name": "stdout",
     "output_type": "stream",
     "text": [
      "Fruit series:\n",
      "0     apples\n",
      "1    oranges\n",
      "2    bananas\n",
      "dtype: object\n",
      "\n",
      "Temperature series:\n",
      "0    32.6\n",
      "1    34.1\n",
      "2    28.0\n",
      "3    35.9\n",
      "dtype: float64\n",
      "\n",
      "Factors of 12 series:\n",
      "0     1\n",
      "1     2\n",
      "2     4\n",
      "3     6\n",
      "4    12\n",
      "dtype: int64\n",
      "Type of this data structure is: <class 'pandas.core.series.Series'>\n"
     ]
    }
   ],
   "source": [
    "## Pandas Series Example\n",
    "import pandas\n",
    "\n",
    "##### INTIALIZATION #####\n",
    "\n",
    "#STRING SERIES\n",
    "fruits = pandas.Series([\"apples\", \"oranges\", \"bananas\"])\n",
    "\n",
    "print(\"Fruit series:\")\n",
    "print(fruits)\n",
    "\n",
    "#FLOAT SERIES\n",
    "temperature = pandas.Series([32.6, 34.1, 28.0, 35.9])\n",
    "\n",
    "print(\"\\nTemperature series:\")\n",
    "print(temperature)\n",
    "\n",
    "#INTEGER SERIES\n",
    "factors_of_12 = pandas.Series([1,2,4,6,12])\n",
    "\n",
    "print(\"\\nFactors of 12 series:\")\n",
    "print(factors_of_12)\n",
    "\n",
    "print(\"Type of this data structure is:\", type(factors_of_12))"
   ]
  },
  {
   "cell_type": "markdown",
   "id": "075d82f3-a45a-43df-879d-57dc713de290",
   "metadata": {},
   "source": [
    "In the code example above, there are three different series initialized by providing a list to the pandas.Series() method. Every element in the series has a label/index. By default, the indices are similar to an array index e.g., start with 0 and end at N−1 where N is the number of elements in that list.\n",
    "\n",
    "However, we can provide our indices by using the index parameter of the pandas.Series() method."
   ]
  },
  {
   "cell_type": "code",
   "execution_count": 6,
   "id": "375fadcf-5040-4126-8606-94fbe8a282d7",
   "metadata": {},
   "outputs": [
    {
     "name": "stdout",
     "output_type": "stream",
     "text": [
      "Fruit series:\n",
      "4     apples\n",
      "3    oranges\n",
      "2    bananas\n",
      "dtype: object\n",
      "\n",
      "Temperature series:\n",
      "one      32.6\n",
      "two      34.1\n",
      "three    28.0\n",
      "four     35.9\n",
      "dtype: float64\n",
      "\n",
      "Factors of 12 series:\n",
      "1        1\n",
      "2        2\n",
      "3        4\n",
      "four     6\n",
      "five    12\n",
      "dtype: int64\n",
      "Type of this data structure is: <class 'pandas.core.series.Series'>\n"
     ]
    }
   ],
   "source": [
    "import pandas\n",
    "\n",
    "# Integer indices\n",
    "fruits = pandas.Series([\"apples\", \"oranges\", \"bananas\"], index=[4, 3, 2])\n",
    "\n",
    "print(\"Fruit series:\")\n",
    "print(fruits)\n",
    "\n",
    "# String indices\n",
    "temperature = pandas.Series([32.6, 34.1, 28.0, 35.9], index=[\"one\", \"two\", \"three\", \"four\"])\n",
    "\n",
    "print(\"\\nTemperature series:\")\n",
    "print(temperature)\n",
    "\n",
    "# Non-unique index values\n",
    "factors_of_12 = pandas.Series([1,2,4,6,12], index=[1, 2, 3, 'four', 'five'])\n",
    "\n",
    "print(\"\\nFactors of 12 series:\")\n",
    "print(factors_of_12)\n",
    "\n",
    "print(\"Type of this data structure is:\", type(factors_of_12))"
   ]
  },
  {
   "cell_type": "markdown",
   "id": "a68c10b5-4358-43c7-b812-c95d7febbc97",
   "metadata": {},
   "source": [
    "We can have indices with hashable data types e.g., integers and strings. Index values don't have to be unique (shown in the above code example)."
   ]
  },
  {
   "cell_type": "code",
   "execution_count": 7,
   "id": "ac7013bb-9d19-4f00-91ae-3960d7520b4c",
   "metadata": {},
   "outputs": [
    {
     "name": "stdout",
     "output_type": "stream",
     "text": [
      "    Jack's        John's\n",
      "a   apples        guavas\n",
      "b  oranges         kiwis\n",
      "c  bananas  strawberries \n",
      "\n",
      "    Jack's        John's\n",
      "0   apples        guavas\n",
      "1  oranges         kiwis\n",
      "2  bananas  strawberries \n",
      "\n"
     ]
    }
   ],
   "source": [
    "## Pandas Data-Frame Example\n",
    "import pandas as pd\n",
    "\n",
    "##### INITIALIZATION #####\n",
    "\n",
    "fruits_jack = [\"apples\", \"oranges\", \"bananas\"]\n",
    "fruits_john = [\"guavas\", \"kiwis\", \"strawberries\"]\n",
    "index = [\"a\", \"b\", \"c\"]\n",
    "all_fruits = {\"Jack's\": fruits_jack, \"John's\": fruits_john}\n",
    "# Dataframe with given index\n",
    "fruits = pd.DataFrame(all_fruits, index = index)\n",
    "print(fruits, \"\\n\")\n",
    "# Dataframe with Default index\n",
    "new_fruits = pd.DataFrame(all_fruits)\n",
    "print(new_fruits, \"\\n\")"
   ]
  },
  {
   "cell_type": "markdown",
   "id": "02c406af-dee8-47c9-abea-440b3de8c1d9",
   "metadata": {},
   "source": [
    "In the code example above, a DataFrame is initialized using a dictionary with two key-value pairs. Every key in this dictionary represents a column in the resulting DataFrame and the value represents all the elements in this column.\n",
    "\n",
    "Both of the lists comprising of fruits as values are used to make a Python dictionary which is then passed to the pandas.DataFrame() method to make a DataFrame.\n",
    "\n",
    "For the second DataFrame, we passed a list of indexes using the index argument in the pandas.DataFrame() method to use our custom indices."
   ]
  },
  {
   "cell_type": "code",
   "execution_count": null,
   "id": "d8f22178-3b2c-4ef1-a8af-436b1c06f303",
   "metadata": {},
   "outputs": [],
   "source": []
  },
  {
   "cell_type": "markdown",
   "id": "0af22fe7-c913-4080-877c-55e18448fa4a",
   "metadata": {},
   "source": [
    "Q5. What are some common functions you can use to manipulate data in a Pandas DataFrame? Can \n",
    "you give an example of when you might use one of these functions?"
   ]
  },
  {
   "cell_type": "markdown",
   "id": "72739ab6-a501-4e7b-a7d6-18a04bd7aa7f",
   "metadata": {},
   "source": [
    "The following functions give you exactly what you need.\n",
    "\n",
    "Head() :-\n",
    "prints the first 5 rows of you dataset including column header and the content of each row.\n",
    "Eg. \n",
    "df.head()\n",
    "df.head(15)\n",
    "prints the first 15 rows of you dataset including column header and the content of each row.\n",
    "number inside brackets indicates the number of returning rows, if not mension by default returns first 5 records.\n",
    "\n",
    "tail() :-\n",
    "prints the last 5 rows of you dataset including column header and the content of each row.\n",
    "Eg. \n",
    "df.tail()\n",
    "df.tail(15)\n",
    "prints the last 15 rows of you dataset including column header and the content of each row.\n",
    "number inside brackets indicates the number of returning rows, if not mension by default returns last 5 records. \n",
    "\n",
    "\n",
    "Info() :-\n",
    "prints the column header and the data type stored in each column. This function is extremely useful when you are trying to understand what values need to change types in order to apply functions to them. Integers that are stored as string will not be added together until you transform them into integers.\n",
    "Eg.\n",
    "df.info()\n",
    "\n",
    "Shape() :-\n",
    "gives the size of the dataframe in the format (‘row’ x ‘column’).\n",
    "Eg.\n",
    "df.shape\n",
    "\n",
    "Describe() :-\n",
    "gives the mean, median, standard deviation and percentiles of all the numerical values in your dataset. I would suggest using describe after making sure all the numerical values are stored as integers or floats.\n",
    "Eg.\n",
    "df.describe()\n",
    "\n",
    "Unique() :-\n",
    "allows you to look at the unique values in each column. This is particularly useful when you have categorical data and you want to understand the categories.\n",
    "Eg.\n",
    "df['columnName'].unique()\n",
    "\n",
    "\n",
    "Find the most repeated values in a dataset for a given column.\n",
    "Eg.\n",
    "df.column.value_counts().head(20)\n",
    "\n",
    "df.drop()\n",
    "You can drop some unnecessary columns using df.drop(). In this dataset we have so many columns we are not going to use all of them for this tutorial. So, we can easily drop some:\n",
    "Eg.\n",
    "df = df.drop(columns=['Unnamed: 0', 'weak_foot', 'real_face'])\n",
    "It just dropped these three columns: ‘Unnamed: 0’, ‘weak_foot’, ‘real_face’.\n",
    "\n",
    ".len()\n",
    "Provides with the length of the DataFrame. Let’s see an example:\n",
    "len(df)\n",
    "\n",
    "df[‘’].dtypes\n",
    "Another very basic and widely used functions. Because it is necessary to know the data types of the variables before we dive into the analysis, visualization, or predictive modeling. I am getting the data type of the ‘height_cm’ column using .dtypes function here:\n",
    "Eg.\n",
    "df.height_cm.dtypes\n",
    "Output:\n",
    "dtype('int64')\n",
    "\n",
    "You have the option to get the data type of each and every column as well using this syntax:\n",
    "df.dtypes\n",
    "\n",
    "df.replace()\n",
    "It does exactly what it sounds like. It replaces the values of a column. When we need to replace only one unique value of a column we simply need to pass the old value and the new value. Imagine, we just found out that the ‘league_rank’ 1.0 needs to be replaced by 1.1 now. Here is how to do that:\n",
    "Eg.\n",
    "df.replace(1.0, 1.1)\n",
    "\n",
    "If we need to change more than one value, we can pass a dictionary to the replace function where the key should be the original value and the value should be the replacement.\n",
    "Eg.\n",
    "df.replace({1.0: 1.1,  4.0: 4.1, 3.0: 3.1})\n",
    "\n",
    "df.rename()\n",
    "It is used to rename the column/s. Here I am changing the ‘weight_kg’ and ‘height_cm’ columns to “Weight (kg)” and “Height (cm)”:\n",
    "Eg.\n",
    "df.rename(columns = {\"weight_kg\": \"Weight (kg)\", \"height_cm\": \"Height (cm)\"})\n"
   ]
  },
  {
   "cell_type": "code",
   "execution_count": null,
   "id": "59b80485-aa2c-4bfb-bfae-20877f82ba34",
   "metadata": {},
   "outputs": [],
   "source": []
  },
  {
   "cell_type": "markdown",
   "id": "3458502f-6d95-4580-b269-5011db68c51b",
   "metadata": {},
   "source": [
    "Q6. Which of the following is mutable in nature Series, DataFrame, Panel?\n",
    "\n"
   ]
  },
  {
   "cell_type": "markdown",
   "id": "bd87e3c8-7e80-4b9e-89c5-7e22f8290e4e",
   "metadata": {},
   "source": [
    "All pandas data structures are value-mutable (the values they contain can be altered) but not always size-mutable. The length of a Series cannot be changed, but, for example, columns can be inserted into a DataFrame.\n",
    "\n",
    "\n",
    "Series Objects are value-mutable but size-immutable objects\n",
    "\n",
    "the dataframe objects are mutable and provides great flexibility to work with"
   ]
  },
  {
   "cell_type": "code",
   "execution_count": null,
   "id": "8c4a3894-4b26-4ea3-b551-231254d10410",
   "metadata": {},
   "outputs": [],
   "source": []
  },
  {
   "cell_type": "markdown",
   "id": "eff91ddd-88c9-4a41-9cb2-03608b0113d0",
   "metadata": {},
   "source": [
    "Q7. Create a DataFrame using multiple Series. Explain with an example."
   ]
  },
  {
   "cell_type": "markdown",
   "id": "d1ea5036-b713-46e1-b65c-0e820e19b5f1",
   "metadata": {},
   "source": [
    "You can create a DataFrame from multiple Series objects by adding each series as a columns. By using concat() method you can merge multiple series together into DataFrame. This takes several params, for our scenario we use list that takes series to combine and axis=1 to specify merge series as columns instead of rows.\n",
    "On DataFrame each series becomes a column. "
   ]
  },
  {
   "cell_type": "code",
   "execution_count": 8,
   "id": "3ebc77a7-5085-4e8d-8a40-2a3981af7f36",
   "metadata": {},
   "outputs": [
    {
     "name": "stdout",
     "output_type": "stream",
     "text": [
      "                      0     1     2\n",
      "0  Data Science Masters  7500  4000\n",
      "1               Web-Dev  7500  4000\n",
      "2                  JAVA  7000  3500\n"
     ]
    }
   ],
   "source": [
    "import pandas as pd\n",
    "# Create pandas Series\n",
    "courses = pd.Series([\"Data Science Masters\",\"Web-Dev\",\"JAVA\"])\n",
    "fees = pd.Series([7500,7500,7000])\n",
    "discount  = pd.Series([4000,4000,3500])\n",
    "\n",
    "# Combine two series.\n",
    "df=pd.concat([courses,fees],axis=1)\n",
    "\n",
    "# It also supports to combine multiple series.\n",
    "df=pd.concat([courses,fees,discount],axis=1)\n",
    "print(df)"
   ]
  },
  {
   "cell_type": "code",
   "execution_count": 9,
   "id": "2f438c4b-77aa-4b0f-a37d-e25628b8f129",
   "metadata": {},
   "outputs": [
    {
     "name": "stdout",
     "output_type": "stream",
     "text": [
      "                courses  fees  discount\n",
      "0  Data Science Masters  7500      4000\n",
      "1               Web-Dev  7500      4000\n",
      "2                  JAVA  7000      3500\n"
     ]
    }
   ],
   "source": [
    "# Create Series by assigning names\n",
    "courses = pd.Series([\"Data Science Masters\",\"Web-Dev\",\"JAVA\"], name='courses')\n",
    "fees = pd.Series([7500,7500,7000], name='fees')\n",
    "discount  = pd.Series([4000,4000,3500],name='discount')\n",
    "\n",
    "df=pd.concat([courses,fees,discount],axis=1)\n",
    "print(df)"
   ]
  },
  {
   "cell_type": "code",
   "execution_count": null,
   "id": "b6e4c211-6daf-45f4-9610-5883558d0d2b",
   "metadata": {},
   "outputs": [],
   "source": []
  }
 ],
 "metadata": {
  "kernelspec": {
   "display_name": "Python 3 (ipykernel)",
   "language": "python",
   "name": "python3"
  },
  "language_info": {
   "codemirror_mode": {
    "name": "ipython",
    "version": 3
   },
   "file_extension": ".py",
   "mimetype": "text/x-python",
   "name": "python",
   "nbconvert_exporter": "python",
   "pygments_lexer": "ipython3",
   "version": "3.10.8"
  }
 },
 "nbformat": 4,
 "nbformat_minor": 5
}
